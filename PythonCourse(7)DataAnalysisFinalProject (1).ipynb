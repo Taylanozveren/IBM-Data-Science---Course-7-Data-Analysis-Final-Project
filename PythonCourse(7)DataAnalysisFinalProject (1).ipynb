{
 "cells": [
  {
   "cell_type": "markdown",
   "id": "efd9a246-8989-4181-b525-d9c7611ed461",
   "metadata": {},
   "source": [
    "# <span style=color:red> IBM Data Science - Course(7): Data Analysis Final Project: House Sales in King County, USA </span>"
   ]
  },
  {
   "cell_type": "markdown",
   "id": "9a01cf8f-3b69-43f4-a334-d87d43dbd055",
   "metadata": {},
   "source": [
    "### Instructions\n",
    "#### In this assignment, you are a Data Analyst working at a Real Estate Investment Trust. The Trust would like to start investing in Residential real estate. You are tasked with determining the market price of a house given a set of features. You will analyze and predict housing prices using attributes or features such as square footage, number of bedrooms, number of floors, and so on. This is a template notebook; your job is to complete the ten questions"
   ]
  },
  {
   "cell_type": "markdown",
   "id": "2d92601c-58e0-472f-8c6e-4e865fef642f",
   "metadata": {},
   "source": [
    "#### I will complete the required project in this notebook in a detailed way to make it educational and usable as a review notebook later on."
   ]
  },
  {
   "cell_type": "markdown",
   "id": "0fe46822-7e90-4f2e-a9f2-b362f842f922",
   "metadata": {},
   "source": [
    "# About the Dataset\n",
    "\n",
    "#### This dataset contains house sale prices for King County, which includes Seattle. It includes homes sold between May 2014 and May 2015. It was taken from [here](https://www.kaggle.com/harlfoxem/housesalesprediction?utm_medium=Exinfluencer&utm_source=Exinfluencer&utm_content=000026UJ&utm_term=10006555&utm_id=NA-SkillsNetwork-wwwcourseraorg-SkillsNetworkCoursesIBMDeveloperSkillsNetworkDA0101ENSkillsNetwork20235326-2022-01-01). It was also slightly modified for the purposes of this course. \n"
   ]
  },
  {
   "cell_type": "markdown",
   "id": "b4dc2970-cdd4-4e3a-b463-a8652d905d2a",
   "metadata": {},
   "source": [
    "| Variable      | Description                                                                                                 |\n",
    "| ------------- | ----------------------------------------------------------------------------------------------------------- |\n",
    "| id            | A notation for a house                                                                                      |\n",
    "| date          | Date house was sold                                                                                         |\n",
    "| price         | Price is prediction target                                                                                  |\n",
    "| bedrooms      | Number of bedrooms                                                                                          |\n",
    "| bathrooms     | Number of bathrooms                                                                                         |\n",
    "| sqft_living   | Square footage of the home                                                                                  |\n",
    "| sqft_lot      | Square footage of the lot                                                                                   |\n",
    "| floors        | Total floors (levels) in house                                                                              |\n",
    "| waterfront    | House which has a view to a waterfront                                                                      |\n",
    "| view          | Has been viewed                                                                                             |\n",
    "| condition     | How good the condition is overall                                                                           |\n",
    "| grade         | overall grade given to the housing unit, based on King County grading system                                |\n",
    "| sqft_above    | Square footage of house apart from basement                                                                 |\n",
    "| sqft_basement | Square footage of the basement                                                                              |\n",
    "| yr_built      | Built Year                                                                                                  |\n",
    "| yr_renovated  | Year when house was renovated                                                                               |\n",
    "| zipcode       | Zip code                                                                                                    |\n",
    "| lat           | Latitude coordinate                                                                                         |\n",
    "| long          | Longitude coordinate                                                                                        |\n",
    "| sqft_living15 | Living room area in 2015(implies-- some renovations) This might or might not have affected the lotsize area |\n",
    "| sqft_lot15    | LotSize area in 2015(implies-- some renovations)                                                            |\n"
   ]
  },
  {
   "cell_type": "markdown",
   "id": "096d81bb-cd3c-46ae-8b59-06f4805a78a2",
   "metadata": {},
   "source": [
    "### **Import the required libraries**\n"
   ]
  },
  {
   "cell_type": "code",
   "execution_count": 99,
   "id": "a133e0b5-5d8c-4808-8d1f-713db0f60e87",
   "metadata": {},
   "outputs": [],
   "source": [
    "import pandas as pd\n",
    "import matplotlib.pyplot as plt\n",
    "import numpy as np\n",
    "import seaborn as sns\n",
    "from sklearn.pipeline import Pipeline\n",
    "from sklearn.preprocessing import StandardScaler,PolynomialFeatures\n",
    "from sklearn.linear_model import LinearRegression\n",
    "%matplotlib inline"
   ]
  },
  {
   "cell_type": "markdown",
   "id": "f524a339-372a-4709-821a-1be890046ca2",
   "metadata": {},
   "source": [
    "# Module 1: Importing Data Sets"
   ]
  },
  {
   "cell_type": "code",
   "execution_count": 102,
   "id": "81643385-df39-48e5-9212-24189cee6d77",
   "metadata": {},
   "outputs": [],
   "source": [
    "filepath='https://cf-courses-data.s3.us.cloud-object-storage.appdomain.cloud/IBMDeveloperSkillsNetwork-DA0101EN-SkillsNetwork/labs/FinalModule_Coursera/data/kc_house_data_NaN.csv'\n",
    "df = pd.read_csv(filepath, header=0)"
   ]
  },
  {
   "cell_type": "code",
   "execution_count": 103,
   "id": "620ff6e2-0970-4b0b-9f02-3c1e462b488e",
   "metadata": {},
   "outputs": [
    {
     "data": {
      "text/html": [
       "<div>\n",
       "<style scoped>\n",
       "    .dataframe tbody tr th:only-of-type {\n",
       "        vertical-align: middle;\n",
       "    }\n",
       "\n",
       "    .dataframe tbody tr th {\n",
       "        vertical-align: top;\n",
       "    }\n",
       "\n",
       "    .dataframe thead th {\n",
       "        text-align: right;\n",
       "    }\n",
       "</style>\n",
       "<table border=\"1\" class=\"dataframe\">\n",
       "  <thead>\n",
       "    <tr style=\"text-align: right;\">\n",
       "      <th></th>\n",
       "      <th>Unnamed: 0</th>\n",
       "      <th>id</th>\n",
       "      <th>date</th>\n",
       "      <th>price</th>\n",
       "      <th>bedrooms</th>\n",
       "      <th>bathrooms</th>\n",
       "      <th>sqft_living</th>\n",
       "      <th>sqft_lot</th>\n",
       "      <th>floors</th>\n",
       "      <th>waterfront</th>\n",
       "      <th>...</th>\n",
       "      <th>grade</th>\n",
       "      <th>sqft_above</th>\n",
       "      <th>sqft_basement</th>\n",
       "      <th>yr_built</th>\n",
       "      <th>yr_renovated</th>\n",
       "      <th>zipcode</th>\n",
       "      <th>lat</th>\n",
       "      <th>long</th>\n",
       "      <th>sqft_living15</th>\n",
       "      <th>sqft_lot15</th>\n",
       "    </tr>\n",
       "  </thead>\n",
       "  <tbody>\n",
       "    <tr>\n",
       "      <th>0</th>\n",
       "      <td>0</td>\n",
       "      <td>7129300520</td>\n",
       "      <td>20141013T000000</td>\n",
       "      <td>221900.0</td>\n",
       "      <td>3.0</td>\n",
       "      <td>1.00</td>\n",
       "      <td>1180</td>\n",
       "      <td>5650</td>\n",
       "      <td>1.0</td>\n",
       "      <td>0</td>\n",
       "      <td>...</td>\n",
       "      <td>7</td>\n",
       "      <td>1180</td>\n",
       "      <td>0</td>\n",
       "      <td>1955</td>\n",
       "      <td>0</td>\n",
       "      <td>98178</td>\n",
       "      <td>47.5112</td>\n",
       "      <td>-122.257</td>\n",
       "      <td>1340</td>\n",
       "      <td>5650</td>\n",
       "    </tr>\n",
       "    <tr>\n",
       "      <th>1</th>\n",
       "      <td>1</td>\n",
       "      <td>6414100192</td>\n",
       "      <td>20141209T000000</td>\n",
       "      <td>538000.0</td>\n",
       "      <td>3.0</td>\n",
       "      <td>2.25</td>\n",
       "      <td>2570</td>\n",
       "      <td>7242</td>\n",
       "      <td>2.0</td>\n",
       "      <td>0</td>\n",
       "      <td>...</td>\n",
       "      <td>7</td>\n",
       "      <td>2170</td>\n",
       "      <td>400</td>\n",
       "      <td>1951</td>\n",
       "      <td>1991</td>\n",
       "      <td>98125</td>\n",
       "      <td>47.7210</td>\n",
       "      <td>-122.319</td>\n",
       "      <td>1690</td>\n",
       "      <td>7639</td>\n",
       "    </tr>\n",
       "    <tr>\n",
       "      <th>2</th>\n",
       "      <td>2</td>\n",
       "      <td>5631500400</td>\n",
       "      <td>20150225T000000</td>\n",
       "      <td>180000.0</td>\n",
       "      <td>2.0</td>\n",
       "      <td>1.00</td>\n",
       "      <td>770</td>\n",
       "      <td>10000</td>\n",
       "      <td>1.0</td>\n",
       "      <td>0</td>\n",
       "      <td>...</td>\n",
       "      <td>6</td>\n",
       "      <td>770</td>\n",
       "      <td>0</td>\n",
       "      <td>1933</td>\n",
       "      <td>0</td>\n",
       "      <td>98028</td>\n",
       "      <td>47.7379</td>\n",
       "      <td>-122.233</td>\n",
       "      <td>2720</td>\n",
       "      <td>8062</td>\n",
       "    </tr>\n",
       "    <tr>\n",
       "      <th>3</th>\n",
       "      <td>3</td>\n",
       "      <td>2487200875</td>\n",
       "      <td>20141209T000000</td>\n",
       "      <td>604000.0</td>\n",
       "      <td>4.0</td>\n",
       "      <td>3.00</td>\n",
       "      <td>1960</td>\n",
       "      <td>5000</td>\n",
       "      <td>1.0</td>\n",
       "      <td>0</td>\n",
       "      <td>...</td>\n",
       "      <td>7</td>\n",
       "      <td>1050</td>\n",
       "      <td>910</td>\n",
       "      <td>1965</td>\n",
       "      <td>0</td>\n",
       "      <td>98136</td>\n",
       "      <td>47.5208</td>\n",
       "      <td>-122.393</td>\n",
       "      <td>1360</td>\n",
       "      <td>5000</td>\n",
       "    </tr>\n",
       "    <tr>\n",
       "      <th>4</th>\n",
       "      <td>4</td>\n",
       "      <td>1954400510</td>\n",
       "      <td>20150218T000000</td>\n",
       "      <td>510000.0</td>\n",
       "      <td>3.0</td>\n",
       "      <td>2.00</td>\n",
       "      <td>1680</td>\n",
       "      <td>8080</td>\n",
       "      <td>1.0</td>\n",
       "      <td>0</td>\n",
       "      <td>...</td>\n",
       "      <td>8</td>\n",
       "      <td>1680</td>\n",
       "      <td>0</td>\n",
       "      <td>1987</td>\n",
       "      <td>0</td>\n",
       "      <td>98074</td>\n",
       "      <td>47.6168</td>\n",
       "      <td>-122.045</td>\n",
       "      <td>1800</td>\n",
       "      <td>7503</td>\n",
       "    </tr>\n",
       "  </tbody>\n",
       "</table>\n",
       "<p>5 rows × 22 columns</p>\n",
       "</div>"
      ],
      "text/plain": [
       "   Unnamed: 0          id             date     price  bedrooms  bathrooms  \\\n",
       "0           0  7129300520  20141013T000000  221900.0       3.0       1.00   \n",
       "1           1  6414100192  20141209T000000  538000.0       3.0       2.25   \n",
       "2           2  5631500400  20150225T000000  180000.0       2.0       1.00   \n",
       "3           3  2487200875  20141209T000000  604000.0       4.0       3.00   \n",
       "4           4  1954400510  20150218T000000  510000.0       3.0       2.00   \n",
       "\n",
       "   sqft_living  sqft_lot  floors  waterfront  ...  grade  sqft_above  \\\n",
       "0         1180      5650     1.0           0  ...      7        1180   \n",
       "1         2570      7242     2.0           0  ...      7        2170   \n",
       "2          770     10000     1.0           0  ...      6         770   \n",
       "3         1960      5000     1.0           0  ...      7        1050   \n",
       "4         1680      8080     1.0           0  ...      8        1680   \n",
       "\n",
       "   sqft_basement  yr_built  yr_renovated  zipcode      lat     long  \\\n",
       "0              0      1955             0    98178  47.5112 -122.257   \n",
       "1            400      1951          1991    98125  47.7210 -122.319   \n",
       "2              0      1933             0    98028  47.7379 -122.233   \n",
       "3            910      1965             0    98136  47.5208 -122.393   \n",
       "4              0      1987             0    98074  47.6168 -122.045   \n",
       "\n",
       "   sqft_living15  sqft_lot15  \n",
       "0           1340        5650  \n",
       "1           1690        7639  \n",
       "2           2720        8062  \n",
       "3           1360        5000  \n",
       "4           1800        7503  \n",
       "\n",
       "[5 rows x 22 columns]"
      ]
     },
     "execution_count": 103,
     "metadata": {},
     "output_type": "execute_result"
    }
   ],
   "source": [
    "df.head()"
   ]
  },
  {
   "cell_type": "markdown",
   "id": "c027dc0d-78d0-4fdd-8b3e-0232e60c4016",
   "metadata": {},
   "source": [
    "### Question 1\n",
    "#### Display the data types of each column using the function dtypes."
   ]
  },
  {
   "cell_type": "code",
   "execution_count": 107,
   "id": "0f11de8e-f25b-48e5-868c-cd427b1aba35",
   "metadata": {},
   "outputs": [
    {
     "name": "stdout",
     "output_type": "stream",
     "text": [
      "Unnamed: 0         int64\n",
      "id                 int64\n",
      "date              object\n",
      "price            float64\n",
      "bedrooms         float64\n",
      "bathrooms        float64\n",
      "sqft_living        int64\n",
      "sqft_lot           int64\n",
      "floors           float64\n",
      "waterfront         int64\n",
      "view               int64\n",
      "condition          int64\n",
      "grade              int64\n",
      "sqft_above         int64\n",
      "sqft_basement      int64\n",
      "yr_built           int64\n",
      "yr_renovated       int64\n",
      "zipcode            int64\n",
      "lat              float64\n",
      "long             float64\n",
      "sqft_living15      int64\n",
      "sqft_lot15         int64\n",
      "dtype: object\n"
     ]
    }
   ],
   "source": [
    "print(df.dtypes)"
   ]
  },
  {
   "cell_type": "code",
   "execution_count": 109,
   "id": "667c8a43-4180-41ec-9d9c-c08163db22cd",
   "metadata": {},
   "outputs": [
    {
     "data": {
      "text/html": [
       "<div>\n",
       "<style scoped>\n",
       "    .dataframe tbody tr th:only-of-type {\n",
       "        vertical-align: middle;\n",
       "    }\n",
       "\n",
       "    .dataframe tbody tr th {\n",
       "        vertical-align: top;\n",
       "    }\n",
       "\n",
       "    .dataframe thead th {\n",
       "        text-align: right;\n",
       "    }\n",
       "</style>\n",
       "<table border=\"1\" class=\"dataframe\">\n",
       "  <thead>\n",
       "    <tr style=\"text-align: right;\">\n",
       "      <th></th>\n",
       "      <th>Unnamed: 0</th>\n",
       "      <th>id</th>\n",
       "      <th>price</th>\n",
       "      <th>bedrooms</th>\n",
       "      <th>bathrooms</th>\n",
       "      <th>sqft_living</th>\n",
       "      <th>sqft_lot</th>\n",
       "      <th>floors</th>\n",
       "      <th>waterfront</th>\n",
       "      <th>view</th>\n",
       "      <th>...</th>\n",
       "      <th>grade</th>\n",
       "      <th>sqft_above</th>\n",
       "      <th>sqft_basement</th>\n",
       "      <th>yr_built</th>\n",
       "      <th>yr_renovated</th>\n",
       "      <th>zipcode</th>\n",
       "      <th>lat</th>\n",
       "      <th>long</th>\n",
       "      <th>sqft_living15</th>\n",
       "      <th>sqft_lot15</th>\n",
       "    </tr>\n",
       "  </thead>\n",
       "  <tbody>\n",
       "    <tr>\n",
       "      <th>count</th>\n",
       "      <td>21613.00000</td>\n",
       "      <td>2.161300e+04</td>\n",
       "      <td>2.161300e+04</td>\n",
       "      <td>21600.000000</td>\n",
       "      <td>21603.000000</td>\n",
       "      <td>21613.000000</td>\n",
       "      <td>2.161300e+04</td>\n",
       "      <td>21613.000000</td>\n",
       "      <td>21613.000000</td>\n",
       "      <td>21613.000000</td>\n",
       "      <td>...</td>\n",
       "      <td>21613.000000</td>\n",
       "      <td>21613.000000</td>\n",
       "      <td>21613.000000</td>\n",
       "      <td>21613.000000</td>\n",
       "      <td>21613.000000</td>\n",
       "      <td>21613.000000</td>\n",
       "      <td>21613.000000</td>\n",
       "      <td>21613.000000</td>\n",
       "      <td>21613.000000</td>\n",
       "      <td>21613.000000</td>\n",
       "    </tr>\n",
       "    <tr>\n",
       "      <th>mean</th>\n",
       "      <td>10806.00000</td>\n",
       "      <td>4.580302e+09</td>\n",
       "      <td>5.400881e+05</td>\n",
       "      <td>3.372870</td>\n",
       "      <td>2.115736</td>\n",
       "      <td>2079.899736</td>\n",
       "      <td>1.510697e+04</td>\n",
       "      <td>1.494309</td>\n",
       "      <td>0.007542</td>\n",
       "      <td>0.234303</td>\n",
       "      <td>...</td>\n",
       "      <td>7.656873</td>\n",
       "      <td>1788.390691</td>\n",
       "      <td>291.509045</td>\n",
       "      <td>1971.005136</td>\n",
       "      <td>84.402258</td>\n",
       "      <td>98077.939805</td>\n",
       "      <td>47.560053</td>\n",
       "      <td>-122.213896</td>\n",
       "      <td>1986.552492</td>\n",
       "      <td>12768.455652</td>\n",
       "    </tr>\n",
       "    <tr>\n",
       "      <th>std</th>\n",
       "      <td>6239.28002</td>\n",
       "      <td>2.876566e+09</td>\n",
       "      <td>3.671272e+05</td>\n",
       "      <td>0.926657</td>\n",
       "      <td>0.768996</td>\n",
       "      <td>918.440897</td>\n",
       "      <td>4.142051e+04</td>\n",
       "      <td>0.539989</td>\n",
       "      <td>0.086517</td>\n",
       "      <td>0.766318</td>\n",
       "      <td>...</td>\n",
       "      <td>1.175459</td>\n",
       "      <td>828.090978</td>\n",
       "      <td>442.575043</td>\n",
       "      <td>29.373411</td>\n",
       "      <td>401.679240</td>\n",
       "      <td>53.505026</td>\n",
       "      <td>0.138564</td>\n",
       "      <td>0.140828</td>\n",
       "      <td>685.391304</td>\n",
       "      <td>27304.179631</td>\n",
       "    </tr>\n",
       "    <tr>\n",
       "      <th>min</th>\n",
       "      <td>0.00000</td>\n",
       "      <td>1.000102e+06</td>\n",
       "      <td>7.500000e+04</td>\n",
       "      <td>1.000000</td>\n",
       "      <td>0.500000</td>\n",
       "      <td>290.000000</td>\n",
       "      <td>5.200000e+02</td>\n",
       "      <td>1.000000</td>\n",
       "      <td>0.000000</td>\n",
       "      <td>0.000000</td>\n",
       "      <td>...</td>\n",
       "      <td>1.000000</td>\n",
       "      <td>290.000000</td>\n",
       "      <td>0.000000</td>\n",
       "      <td>1900.000000</td>\n",
       "      <td>0.000000</td>\n",
       "      <td>98001.000000</td>\n",
       "      <td>47.155900</td>\n",
       "      <td>-122.519000</td>\n",
       "      <td>399.000000</td>\n",
       "      <td>651.000000</td>\n",
       "    </tr>\n",
       "    <tr>\n",
       "      <th>25%</th>\n",
       "      <td>5403.00000</td>\n",
       "      <td>2.123049e+09</td>\n",
       "      <td>3.219500e+05</td>\n",
       "      <td>3.000000</td>\n",
       "      <td>1.750000</td>\n",
       "      <td>1427.000000</td>\n",
       "      <td>5.040000e+03</td>\n",
       "      <td>1.000000</td>\n",
       "      <td>0.000000</td>\n",
       "      <td>0.000000</td>\n",
       "      <td>...</td>\n",
       "      <td>7.000000</td>\n",
       "      <td>1190.000000</td>\n",
       "      <td>0.000000</td>\n",
       "      <td>1951.000000</td>\n",
       "      <td>0.000000</td>\n",
       "      <td>98033.000000</td>\n",
       "      <td>47.471000</td>\n",
       "      <td>-122.328000</td>\n",
       "      <td>1490.000000</td>\n",
       "      <td>5100.000000</td>\n",
       "    </tr>\n",
       "    <tr>\n",
       "      <th>50%</th>\n",
       "      <td>10806.00000</td>\n",
       "      <td>3.904930e+09</td>\n",
       "      <td>4.500000e+05</td>\n",
       "      <td>3.000000</td>\n",
       "      <td>2.250000</td>\n",
       "      <td>1910.000000</td>\n",
       "      <td>7.618000e+03</td>\n",
       "      <td>1.500000</td>\n",
       "      <td>0.000000</td>\n",
       "      <td>0.000000</td>\n",
       "      <td>...</td>\n",
       "      <td>7.000000</td>\n",
       "      <td>1560.000000</td>\n",
       "      <td>0.000000</td>\n",
       "      <td>1975.000000</td>\n",
       "      <td>0.000000</td>\n",
       "      <td>98065.000000</td>\n",
       "      <td>47.571800</td>\n",
       "      <td>-122.230000</td>\n",
       "      <td>1840.000000</td>\n",
       "      <td>7620.000000</td>\n",
       "    </tr>\n",
       "    <tr>\n",
       "      <th>75%</th>\n",
       "      <td>16209.00000</td>\n",
       "      <td>7.308900e+09</td>\n",
       "      <td>6.450000e+05</td>\n",
       "      <td>4.000000</td>\n",
       "      <td>2.500000</td>\n",
       "      <td>2550.000000</td>\n",
       "      <td>1.068800e+04</td>\n",
       "      <td>2.000000</td>\n",
       "      <td>0.000000</td>\n",
       "      <td>0.000000</td>\n",
       "      <td>...</td>\n",
       "      <td>8.000000</td>\n",
       "      <td>2210.000000</td>\n",
       "      <td>560.000000</td>\n",
       "      <td>1997.000000</td>\n",
       "      <td>0.000000</td>\n",
       "      <td>98118.000000</td>\n",
       "      <td>47.678000</td>\n",
       "      <td>-122.125000</td>\n",
       "      <td>2360.000000</td>\n",
       "      <td>10083.000000</td>\n",
       "    </tr>\n",
       "    <tr>\n",
       "      <th>max</th>\n",
       "      <td>21612.00000</td>\n",
       "      <td>9.900000e+09</td>\n",
       "      <td>7.700000e+06</td>\n",
       "      <td>33.000000</td>\n",
       "      <td>8.000000</td>\n",
       "      <td>13540.000000</td>\n",
       "      <td>1.651359e+06</td>\n",
       "      <td>3.500000</td>\n",
       "      <td>1.000000</td>\n",
       "      <td>4.000000</td>\n",
       "      <td>...</td>\n",
       "      <td>13.000000</td>\n",
       "      <td>9410.000000</td>\n",
       "      <td>4820.000000</td>\n",
       "      <td>2015.000000</td>\n",
       "      <td>2015.000000</td>\n",
       "      <td>98199.000000</td>\n",
       "      <td>47.777600</td>\n",
       "      <td>-121.315000</td>\n",
       "      <td>6210.000000</td>\n",
       "      <td>871200.000000</td>\n",
       "    </tr>\n",
       "  </tbody>\n",
       "</table>\n",
       "<p>8 rows × 21 columns</p>\n",
       "</div>"
      ],
      "text/plain": [
       "        Unnamed: 0            id         price      bedrooms     bathrooms  \\\n",
       "count  21613.00000  2.161300e+04  2.161300e+04  21600.000000  21603.000000   \n",
       "mean   10806.00000  4.580302e+09  5.400881e+05      3.372870      2.115736   \n",
       "std     6239.28002  2.876566e+09  3.671272e+05      0.926657      0.768996   \n",
       "min        0.00000  1.000102e+06  7.500000e+04      1.000000      0.500000   \n",
       "25%     5403.00000  2.123049e+09  3.219500e+05      3.000000      1.750000   \n",
       "50%    10806.00000  3.904930e+09  4.500000e+05      3.000000      2.250000   \n",
       "75%    16209.00000  7.308900e+09  6.450000e+05      4.000000      2.500000   \n",
       "max    21612.00000  9.900000e+09  7.700000e+06     33.000000      8.000000   \n",
       "\n",
       "        sqft_living      sqft_lot        floors    waterfront          view  \\\n",
       "count  21613.000000  2.161300e+04  21613.000000  21613.000000  21613.000000   \n",
       "mean    2079.899736  1.510697e+04      1.494309      0.007542      0.234303   \n",
       "std      918.440897  4.142051e+04      0.539989      0.086517      0.766318   \n",
       "min      290.000000  5.200000e+02      1.000000      0.000000      0.000000   \n",
       "25%     1427.000000  5.040000e+03      1.000000      0.000000      0.000000   \n",
       "50%     1910.000000  7.618000e+03      1.500000      0.000000      0.000000   \n",
       "75%     2550.000000  1.068800e+04      2.000000      0.000000      0.000000   \n",
       "max    13540.000000  1.651359e+06      3.500000      1.000000      4.000000   \n",
       "\n",
       "       ...         grade    sqft_above  sqft_basement      yr_built  \\\n",
       "count  ...  21613.000000  21613.000000   21613.000000  21613.000000   \n",
       "mean   ...      7.656873   1788.390691     291.509045   1971.005136   \n",
       "std    ...      1.175459    828.090978     442.575043     29.373411   \n",
       "min    ...      1.000000    290.000000       0.000000   1900.000000   \n",
       "25%    ...      7.000000   1190.000000       0.000000   1951.000000   \n",
       "50%    ...      7.000000   1560.000000       0.000000   1975.000000   \n",
       "75%    ...      8.000000   2210.000000     560.000000   1997.000000   \n",
       "max    ...     13.000000   9410.000000    4820.000000   2015.000000   \n",
       "\n",
       "       yr_renovated       zipcode           lat          long  sqft_living15  \\\n",
       "count  21613.000000  21613.000000  21613.000000  21613.000000   21613.000000   \n",
       "mean      84.402258  98077.939805     47.560053   -122.213896    1986.552492   \n",
       "std      401.679240     53.505026      0.138564      0.140828     685.391304   \n",
       "min        0.000000  98001.000000     47.155900   -122.519000     399.000000   \n",
       "25%        0.000000  98033.000000     47.471000   -122.328000    1490.000000   \n",
       "50%        0.000000  98065.000000     47.571800   -122.230000    1840.000000   \n",
       "75%        0.000000  98118.000000     47.678000   -122.125000    2360.000000   \n",
       "max     2015.000000  98199.000000     47.777600   -121.315000    6210.000000   \n",
       "\n",
       "          sqft_lot15  \n",
       "count   21613.000000  \n",
       "mean    12768.455652  \n",
       "std     27304.179631  \n",
       "min       651.000000  \n",
       "25%      5100.000000  \n",
       "50%      7620.000000  \n",
       "75%     10083.000000  \n",
       "max    871200.000000  \n",
       "\n",
       "[8 rows x 21 columns]"
      ]
     },
     "execution_count": 109,
     "metadata": {},
     "output_type": "execute_result"
    }
   ],
   "source": [
    "df.describe()"
   ]
  },
  {
   "cell_type": "markdown",
   "id": "69e830a7-0bd3-499c-a4a9-a4fcd6605f0e",
   "metadata": {},
   "source": [
    "# Module 2: Data Wrangling"
   ]
  },
  {
   "cell_type": "markdown",
   "id": "7f71efde-4a7d-40c8-a89e-fe58b919741d",
   "metadata": {},
   "source": [
    "### Question 2\n",
    "\n",
    "#### Drop the columns <code>\"id\"</code>  and <code>\"Unnamed: 0\"</code> from axis 1 using the method <code>drop()</code>, then use the method <code>describe()</code> to obtain a statistical summary of the data. Make sure the <code>inplace</code> parameter is set to <code>True</code>. "
   ]
  },
  {
   "cell_type": "code",
   "execution_count": 111,
   "id": "3c738bea-ccce-4bdb-b10d-605be6dd7c6f",
   "metadata": {
    "scrolled": true
   },
   "outputs": [
    {
     "name": "stdout",
     "output_type": "stream",
     "text": [
      "              price      bedrooms     bathrooms   sqft_living      sqft_lot  \\\n",
      "count  2.161300e+04  21600.000000  21603.000000  21613.000000  2.161300e+04   \n",
      "mean   5.400881e+05      3.372870      2.115736   2079.899736  1.510697e+04   \n",
      "std    3.671272e+05      0.926657      0.768996    918.440897  4.142051e+04   \n",
      "min    7.500000e+04      1.000000      0.500000    290.000000  5.200000e+02   \n",
      "25%    3.219500e+05      3.000000      1.750000   1427.000000  5.040000e+03   \n",
      "50%    4.500000e+05      3.000000      2.250000   1910.000000  7.618000e+03   \n",
      "75%    6.450000e+05      4.000000      2.500000   2550.000000  1.068800e+04   \n",
      "max    7.700000e+06     33.000000      8.000000  13540.000000  1.651359e+06   \n",
      "\n",
      "             floors    waterfront          view     condition         grade  \\\n",
      "count  21613.000000  21613.000000  21613.000000  21613.000000  21613.000000   \n",
      "mean       1.494309      0.007542      0.234303      3.409430      7.656873   \n",
      "std        0.539989      0.086517      0.766318      0.650743      1.175459   \n",
      "min        1.000000      0.000000      0.000000      1.000000      1.000000   \n",
      "25%        1.000000      0.000000      0.000000      3.000000      7.000000   \n",
      "50%        1.500000      0.000000      0.000000      3.000000      7.000000   \n",
      "75%        2.000000      0.000000      0.000000      4.000000      8.000000   \n",
      "max        3.500000      1.000000      4.000000      5.000000     13.000000   \n",
      "\n",
      "         sqft_above  sqft_basement      yr_built  yr_renovated       zipcode  \\\n",
      "count  21613.000000   21613.000000  21613.000000  21613.000000  21613.000000   \n",
      "mean    1788.390691     291.509045   1971.005136     84.402258  98077.939805   \n",
      "std      828.090978     442.575043     29.373411    401.679240     53.505026   \n",
      "min      290.000000       0.000000   1900.000000      0.000000  98001.000000   \n",
      "25%     1190.000000       0.000000   1951.000000      0.000000  98033.000000   \n",
      "50%     1560.000000       0.000000   1975.000000      0.000000  98065.000000   \n",
      "75%     2210.000000     560.000000   1997.000000      0.000000  98118.000000   \n",
      "max     9410.000000    4820.000000   2015.000000   2015.000000  98199.000000   \n",
      "\n",
      "                lat          long  sqft_living15     sqft_lot15  \n",
      "count  21613.000000  21613.000000   21613.000000   21613.000000  \n",
      "mean      47.560053   -122.213896    1986.552492   12768.455652  \n",
      "std        0.138564      0.140828     685.391304   27304.179631  \n",
      "min       47.155900   -122.519000     399.000000     651.000000  \n",
      "25%       47.471000   -122.328000    1490.000000    5100.000000  \n",
      "50%       47.571800   -122.230000    1840.000000    7620.000000  \n",
      "75%       47.678000   -122.125000    2360.000000   10083.000000  \n",
      "max       47.777600   -121.315000    6210.000000  871200.000000  \n"
     ]
    }
   ],
   "source": [
    "# remove unnecessary columns from your dataset \n",
    "df.drop([\"id\", \"Unnamed: 0\"], axis=1, inplace=True)\n",
    "\n",
    "# get the statistical summary of the data\n",
    "print(df.describe())\n"
   ]
  },
  {
   "cell_type": "markdown",
   "id": "71c43259-82e7-46d6-8ce3-7137743f48ea",
   "metadata": {},
   "source": [
    "### 2.2) We can see we have missing values for the columns  bedrooms and  bathrooms "
   ]
  },
  {
   "cell_type": "markdown",
   "id": "9a4b3980-8f4b-4cc6-966a-2199ed765645",
   "metadata": {},
   "source": [
    "print(\"number of NaN values for the column bedrooms :\", df['bedrooms'].isnull().sum())\n",
    "print(\"number of NaN values for the column bathrooms :\", df['bathrooms'].isnull().sum())\n"
   ]
  },
  {
   "cell_type": "markdown",
   "id": "0047a96f-59df-4d70-a4f6-3ba53f390cd4",
   "metadata": {},
   "source": [
    "### 2.3) We can replace the missing values of the column 'bedrooms' with the mean of the column 'bedrooms'  using the method replace()."
   ]
  },
  {
   "cell_type": "code",
   "execution_count": 116,
   "id": "76def0ac-4774-4eb7-a608-2f1d6769270d",
   "metadata": {},
   "outputs": [],
   "source": [
    "mean_bedrooms = df['bedrooms'].mean()\n",
    "df['bedrooms'] = df['bedrooms'].fillna(mean_bedrooms) #applies the operation directly on the original data, making the change permanent. "
   ]
  },
  {
   "cell_type": "markdown",
   "id": "b640304b-4f5c-4878-9dd9-8369a7f27712",
   "metadata": {},
   "source": [
    "### 2.4) We also replace the missing values of the column 'bathrooms' with the mean of the column 'bathrooms'  using the method replace()."
   ]
  },
  {
   "cell_type": "code",
   "execution_count": 119,
   "id": "e52221a8-9e8f-4a91-afda-5bf9dac48142",
   "metadata": {},
   "outputs": [],
   "source": [
    "mean_bathrooms = df['bathrooms'].mean()\n",
    "df['bathrooms'] = df['bathrooms'].fillna(mean_bathrooms) #applies the operation directly on the original data, making the change permanent. "
   ]
  },
  {
   "cell_type": "code",
   "execution_count": 121,
   "id": "acbf08b1-2fce-4e73-9f3b-5e017010a0a3",
   "metadata": {},
   "outputs": [
    {
     "name": "stdout",
     "output_type": "stream",
     "text": [
      "number of NaN values for the column bedrooms : 0\n",
      "number of NaN values for the column bathrooms : 0\n"
     ]
    }
   ],
   "source": [
    "print(\"number of NaN values for the column bedrooms :\", df['bedrooms'].isnull().sum())\n",
    "print(\"number of NaN values for the column bathrooms :\", df['bathrooms'].isnull().sum())"
   ]
  },
  {
   "cell_type": "markdown",
   "id": "fba3362c-0c6f-40a3-8b30-4be553ed0c91",
   "metadata": {},
   "source": [
    "# Module 3: Exploratory Data Analysis (Scatter Plot, Box Plot, Correlation, Reg)"
   ]
  },
  {
   "cell_type": "markdown",
   "id": "a704c8dd-4a1e-4efc-83ab-e0764549d00a",
   "metadata": {},
   "source": [
    "### Question 3\n",
    "#### Use the method value_counts to count the number of houses with unique floor values, use the method .to_frame() to convert it to a data frame."
   ]
  },
  {
   "cell_type": "code",
   "execution_count": 130,
   "id": "b952bee0-b356-4a0f-91c5-3a43847667fe",
   "metadata": {},
   "outputs": [
    {
     "name": "stdout",
     "output_type": "stream",
     "text": [
      "        Number of Houses\n",
      "floors                  \n",
      "1.0                10680\n",
      "2.0                 8241\n",
      "1.5                 1910\n",
      "3.0                  613\n",
      "2.5                  161\n",
      "3.5                    8\n"
     ]
    }
   ],
   "source": [
    "# Number of unique value / floors columns\n",
    "floor_counts = df['floors'].value_counts().to_frame()\n",
    "\n",
    "# new column for counter;\n",
    "floor_counts.columns = ['Number of Houses']\n",
    "\n",
    "print(floor_counts)"
   ]
  },
  {
   "cell_type": "markdown",
   "id": "a801fcb5-2cdf-4262-a0a0-a7ca619155cc",
   "metadata": {},
   "source": [
    "### Question 4\n",
    "#### Use the function boxplot in the seaborn library to determine whether houses with a waterfront view or without a waterfront view have more price outliers.\n",
    "#### This plot will allow you to visually assess whether houses with a waterfront view have more price outliers compared to those without. If houses with a waterfront view have more outliers, their price distribution will be wider, and the boxplot will show more points outside the main box.\n",
    "#### Conclusion: From this plot, we can see that houses with a waterfront view generally have higher prices and fewer outliers, while houses without a waterfront view exhibit a broader range of prices with more outliers."
   ]
  },
  {
   "cell_type": "code",
   "execution_count": 142,
   "id": "d07a337c-80cd-4b4f-aa20-7b72947e43ad",
   "metadata": {},
   "outputs": [
    {
     "data": {
      "image/png": "[encoded data removed]",
      "text/plain": [
       "<Figure size 800x400 with 1 Axes>"
      ]
     },
     "metadata": {},
     "output_type": "display_data"
    }
   ],
   "source": [
    "import seaborn as sns\n",
    "import matplotlib.pyplot as plt\n",
    "\n",
    "# Boxplot \n",
    "plt.figure(figsize=(8, 4))  # set the size of the plot\n",
    "sns.boxplot(x='waterfront', y='price', data=df)\n",
    "\n",
    "# Title for graph\n",
    "plt.title('Price Outliers Based on Waterfront View')\n",
    "\n",
    "\n",
    "plt.show()\n"
   ]
  },
  {
   "cell_type": "markdown",
   "id": "0cb78787-302c-4320-a2b3-6a4b211f85e5",
   "metadata": {},
   "source": [
    "### Question 5\n",
    "#### Use the function regplot in the seaborn library to determine if the feature sqft_above is negatively or positively correlated with price.\n",
    "#### The provided Python code aims to visualize the relationship between two variables in a DataFrame (df) using the regplot function from the seaborn library. Specifically, it is used to determine whether the sqft_above (square footage above ground) feature is positively or negatively correlated with the price feature.\n",
    "#### Conclusion: The resulting plot shows the relationship between sqft_above and price, along with a regression line. Observing the plot, it generally indicates a positive relationship. This means that as the sqft_above value increases, the price value tends to increase as well. This suggests that houses with larger square footage above ground generally have higher prices.\n",
    "####  If there's higher density in a specific range, it might indicate that houses within this range are more common and their prices can be analyzed with greater consistency or frequency in that segment of the market."
   ]
  },
  {
   "cell_type": "code",
   "execution_count": 153,
   "id": "4aab3013-6d9c-4a3c-aa06-e6ff64a79c27",
   "metadata": {},
   "outputs": [
    {
     "data": {
      "image/png": "[encoded data removed]",
      "text/plain": [
       "<Figure size 640x480 with 1 Axes>"
      ]
     },
     "metadata": {},
     "output_type": "display_data"
    }
   ],
   "source": [
    "sns.regplot(x='sqft_above', y='price', data=df)\n",
    "plt.xlabel('Square Feet Above')\n",
    "plt.ylabel('Price')\n",
    "plt.title('Regression Plot of Square Feet Above vs Price')\n",
    "plt.show()"
   ]
  },
  {
   "cell_type": "markdown",
   "id": "38a5ca8a-c604-403d-80a8-716c58f43f5a",
   "metadata": {},
   "source": [
    "### 5.2) We can use the Pandas method corr() to find the feature other than price that is most correlated with price.\n",
    "#### Strong Relationships: Columns with a high positive correlation with price may have a strong relationship with increasing the price.\n",
    "#### In summary, features such as sqft_living, sqft_above, grade, and sqft_living15 show the strongest positive correlations with the price, indicating they are significant predictors of property value. On the other hand, features like zipcode, condition, and yr_built have very weak correlations, suggesting they have minimal influence on price.\n",
    "#### If a particular feature has a negative relationship with price, an increase in that feature may decrease the price."
   ]
  },
  {
   "cell_type": "code",
   "execution_count": 165,
   "id": "88ae8d3d-24cc-4353-8f6c-699cf3f1caaf",
   "metadata": {},
   "outputs": [
    {
     "data": {
      "text/plain": [
       "zipcode         -0.053203\n",
       "long             0.021626\n",
       "condition        0.036362\n",
       "yr_built         0.054012\n",
       "sqft_lot15       0.082447\n",
       "sqft_lot         0.089661\n",
       "yr_renovated     0.126434\n",
       "floors           0.256794\n",
       "waterfront       0.266369\n",
       "lat              0.307003\n",
       "bedrooms         0.308797\n",
       "sqft_basement    0.323816\n",
       "view             0.397293\n",
       "bathrooms        0.525738\n",
       "sqft_living15    0.585379\n",
       "sqft_above       0.605567\n",
       "grade            0.667434\n",
       "sqft_living      0.702035\n",
       "price            1.000000\n",
       "Name: price, dtype: float64"
      ]
     },
     "execution_count": 165,
     "metadata": {},
     "output_type": "execute_result"
    }
   ],
   "source": [
    "df.corr()['price'].sort_values()"
   ]
  },
  {
   "cell_type": "markdown",
   "id": "427c6b28-1a43-429c-a5ae-cca7c901e340",
   "metadata": {},
   "source": [
    "# Module 4: Model Development\n",
    "### We can Fit a linear regression model using the longitude feature 'long' and caculate the R^2.\n",
    "#### The R² score (coefficient of determination) is a statistical measure that indicates how well the independent variables (features) explain the variability of the dependent variable (target).\n",
    "##### In summary, a low R² score means that the model has poor explanatory power and the feature used does not contribute significantly to predicting the target variable."
   ]
  },
  {
   "cell_type": "code",
   "execution_count": 180,
   "id": "f6a935a7-4eaf-4366-a235-47e4b9e16ca6",
   "metadata": {},
   "outputs": [
    {
     "data": {
      "text/plain": [
       "0.00046769430149007363"
      ]
     },
     "execution_count": 180,
     "metadata": {},
     "output_type": "execute_result"
    }
   ],
   "source": [
    "# These steps are fundamental for setting up and evaluating a linear regression model.\n",
    "X = df[['long']]\n",
    "Y = df['price']\n",
    "\n",
    "lm = LinearRegression() #The model will learn the linear relationships between the features and the target variable.\n",
    "lm.fit(X,Y) #The fit method trains the model on the data provided (X and Y). \n",
    "lm.score(X, Y)\n",
    "\n",
    "#The score method calculates the R² score of the model. \n",
    "#The R² score measures how well the model explains the variance in the target variable. \n",
    "#This value ranges from 0 to 1, where 1 indicates a perfect fit."
   ]
  },
  {
   "cell_type": "markdown",
   "id": "77e87db0-76b4-48a0-a0c6-29978e916ba9",
   "metadata": {},
   "source": [
    "# Question 6 (One variable regresion / r^2 score)\n",
    "#### Fit a linear regression model to predict the 'price' using the feature 'sqft_living' then calculate the R^2.\n",
    "#### The R² score ranges from 0 to 1.\n",
    "#### 0 means that the model explains none of the variability in the target variable.\n",
    "#### 1 means that the model explains all of the variability in the target variable.\n"
   ]
  },
  {
   "cell_type": "code",
   "execution_count": 178,
   "id": "9a3aae1d-f7e8-4741-8e52-635b70ed8c46",
   "metadata": {},
   "outputs": [
    {
     "name": "stdout",
     "output_type": "stream",
     "text": [
      "R² score: 0.4929\n"
     ]
    }
   ],
   "source": [
    "# Import necessary libraries\n",
    "from sklearn.linear_model import LinearRegression\n",
    "from sklearn.metrics import r2_score\n",
    "\n",
    "# Assume df is your DataFrame with the necessary columns\n",
    "# Prepare the feature (X) and target (Y) variables\n",
    "X = df[['sqft_living']]  # Feature variable\n",
    "Y = df['price']          # Target variable\n",
    "\n",
    "# Create the Linear Regression model\n",
    "lm = LinearRegression()\n",
    "\n",
    "# Fit the model to the data\n",
    "lm.fit(X, Y)\n",
    "\n",
    "# Calculate the R² score\n",
    "r2 = lm.score(X, Y)\n",
    "print(f'R² score: {r2:.4f}')\n",
    "\n"
   ]
  },
  {
   "cell_type": "markdown",
   "id": "8261c804-fff5-4fcd-b9c8-049e1a56ea40",
   "metadata": {},
   "source": [
    "### Question 7 (Features Regression)\n",
    "#### Fit a linear regression model to predict the 'price' using the list of features:"
   ]
  },
  {
   "cell_type": "code",
   "execution_count": 188,
   "id": "d8ddc643-c4d2-4d79-a431-cab317169e1b",
   "metadata": {},
   "outputs": [],
   "source": [
    "features =[\"floors\", \"waterfront\",\"lat\" ,\"bedrooms\" ,\"sqft_basement\" ,\"view\" ,\"bathrooms\",\"sqft_living15\",\"sqft_above\",\"grade\",\"sqft_living\"]     "
   ]
  },
  {
   "cell_type": "markdown",
   "id": "5a63623e-e5cc-4e47-8c2a-0927d2a8228e",
   "metadata": {},
   "source": [
    "### 7.2) Then calculate the R^2. "
   ]
  },
  {
   "cell_type": "code",
   "execution_count": 191,
   "id": "4e6f44e0-0d99-4b2a-b940-aa7b8776bbca",
   "metadata": {},
   "outputs": [
    {
     "name": "stdout",
     "output_type": "stream",
     "text": [
      "R² score: 0.6577\n"
     ]
    }
   ],
   "source": [
    "# Prepare the feature and target variables\n",
    "X = df[features]  # Features data\n",
    "Y = df['price']   # Target variable\n",
    "\n",
    "# Create the Linear Regression model\n",
    "lm = LinearRegression()\n",
    "\n",
    "# Fit the model to the data\n",
    "lm.fit(X, Y)\n",
    "\n",
    "# Calculate the R² score\n",
    "r2 = lm.score(X, Y)\n",
    "print(f'R² score: {r2:.4f}')"
   ]
  },
  {
   "cell_type": "markdown",
   "id": "fbe75283-1471-4232-9188-e50a58e1f578",
   "metadata": {},
   "source": [
    "#### R^2 Score Conlusion: \n",
    "\n",
    "##### Performance Difference: The higher R² score of the second model (0.65) compared to the first model (0.49) indicates that using multiple features allows the model to better explain the variance in price. The second model is more effective at predicting price because it incorporates more information.\n",
    "\n",
    "##### Impact of Features: While a single feature (sqft_living) can explain some of the variance in price, using multiple features together allows the model to gain more insights and make more accurate predictions. Therefore, the R² score of the model with multiple features is higher.\n",
    "\n",
    "##### In summary, the model that uses multiple features performs better and explains more of the variance in price compared to the model using just one feature."
   ]
  },
  {
   "cell_type": "markdown",
   "id": "35c154c0-69d6-4768-9564-dc3804b5479a",
   "metadata": {},
   "source": [
    "### This steps will help with Question 8 !!!!!!!!\n",
    "\n",
    "Create a list of tuples, the first element in the tuple contains the name of the estimator:\n",
    "\n",
    "<code>'scale'</code>\n",
    "\n",
    "<code>'polynomial'</code>\n",
    "\n",
    "<code>'model'</code>\n",
    "\n",
    "The second element in the tuple  contains the model constructor\n",
    "\n",
    "<code>StandardScaler()</code>\n",
    "\n",
    "<code>PolynomialFeatures(include_bias=False)</code>\n",
    "\n",
    "<code>LinearRegression()</code>\n"
   ]
  },
  {
   "cell_type": "markdown",
   "id": "fc97562f-60b2-49e2-9291-7f6e43befca2",
   "metadata": {},
   "source": [
    "### Question 8: (PIPELINE)\n",
    "#### Use the list to create a pipeline object to predict the 'price', fit the object using the features in the list features, and calculate the R^2. Take a screenshot of your code and the value of the R^2. You will need to submit it for the final project.\n",
    "### 1. What is a Pipeline and What Does It Do?\n",
    "#### Pipeline: The Pipeline class in sklearn combines data processing and modeling steps into a single workflow. This allows us to apply sequential operations such as scaling, transformation, and modeling in an organized manner.\n",
    "### Advantages:\n",
    "#### - Organized Code: Ensures that each step is executed in sequence, making the code cleaner and more readable.\n",
    "#### - Reusability: Allows us to reuse and modify the data processing and modeling steps.\n",
    "#### - Easy Error Management: Makes it easier to debug by treating the entire process as a single entity."
   ]
  },
  {
   "cell_type": "code",
   "execution_count": 195,
   "id": "0b1d694f-8fc6-4b54-b6f8-45c6c642dffb",
   "metadata": {},
   "outputs": [],
   "source": [
    "Input=[('scale',StandardScaler()),('polynomial', PolynomialFeatures(include_bias=False)),('model',LinearRegression())]"
   ]
  },
  {
   "cell_type": "code",
   "execution_count": 198,
   "id": "7b8b5bce-bf27-49ba-8cd4-8d0a03c9235b",
   "metadata": {},
   "outputs": [
    {
     "name": "stdout",
     "output_type": "stream",
     "text": [
      "R² score: 0.7512\n"
     ]
    }
   ],
   "source": [
    "# Define the list of tuples\n",
    "steps = [\n",
    "    ('scale', StandardScaler()), \n",
    "    ('polynomial', PolynomialFeatures(include_bias=False)), \n",
    "    ('model', LinearRegression())\n",
    "]\n",
    "\n",
    "# Create the pipeline\n",
    "pipeline = Pipeline(steps=steps)\n",
    "\n",
    "# Prepare the feature (X) and target (Y) variables\n",
    "X = df[features]  # Features data\n",
    "Y = df['price']   # Target variable\n",
    "\n",
    "# Fit the pipeline to the data\n",
    "pipeline.fit(X, Y)\n",
    "\n",
    "# Make predictions and calculate R² score\n",
    "Y_pred = pipeline.predict(X)\n",
    "r2 = r2_score(Y, Y_pred)\n",
    "print(f'R² score: {r2:.4f}')"
   ]
  },
  {
   "cell_type": "markdown",
   "id": "dd064792-78c4-451c-a236-907f362971e3",
   "metadata": {},
   "source": [
    "# Module 5: Model Evaluation and Refinement\n",
    "### Import the necessary modules:"
   ]
  },
  {
   "cell_type": "code",
   "execution_count": 206,
   "id": "a4039909-3767-46f0-90ca-32fc17f3c634",
   "metadata": {},
   "outputs": [
    {
     "name": "stdout",
     "output_type": "stream",
     "text": [
      "done\n"
     ]
    }
   ],
   "source": [
    "from sklearn.model_selection import cross_val_score\n",
    "from sklearn.model_selection import train_test_split\n",
    "print(\"done\")"
   ]
  },
  {
   "cell_type": "markdown",
   "id": "42de13aa-7cd4-4861-a532-394be77fce0c",
   "metadata": {},
   "source": [
    "#### We will split the data into training and testing sets:\n",
    "#### This process is essential for properly training and evaluating your model, and it helps ensure that the model’s accuracy and generalization capabilities are properly assessed.\n",
    "### İmportant : General Recommendation:\n",
    "\n",
    "#### For datasets of varying sizes, a test set size between 15-30% is generally suitable. Larger datasets can accommodate a larger test set, while smaller datasets may require a smaller test set."
   ]
  },
  {
   "cell_type": "code",
   "execution_count": 209,
   "id": "9b045554-efc3-408a-be93-8bfd92f7bd5c",
   "metadata": {},
   "outputs": [
    {
     "name": "stdout",
     "output_type": "stream",
     "text": [
      "number of test samples: 3242\n",
      "number of training samples: 18371\n"
     ]
    }
   ],
   "source": [
    "features =[\"floors\", \"waterfront\",\"lat\" ,\"bedrooms\" ,\"sqft_basement\" ,\"view\" ,\"bathrooms\",\"sqft_living15\",\"sqft_above\",\"grade\",\"sqft_living\"]    \n",
    "X = df[features]\n",
    "Y = df['price']\n",
    "\n",
    "x_train, x_test, y_train, y_test = train_test_split(X, Y, test_size=0.15, random_state=1)\n",
    "\n",
    "\n",
    "print(\"number of test samples:\", x_test.shape[0])\n",
    "print(\"number of training samples:\",x_train.shape[0])"
   ]
  },
  {
   "cell_type": "markdown",
   "id": "605864eb-092b-40d8-aaea-e3c54473434a",
   "metadata": {},
   "source": [
    "### Question 9 (RIDGE REGRESSION)\n",
    "#### Create and fit a Ridge regression object using the training data, set the regularization parameter to 0.1, and calculate the R^2 using the test data. Take a screenshot of your code and the value of the R^2. You will need to submit it for the final project.\n",
    "#### alpha=0.1: This value controls the amount of regularization applied to the model. Regularization helps to prevent overfitting by penalizing large coefficients.\n",
    "### Important : Alpha (α): Experiment with different α values to balance regularization and model performance, using methods like grid search to identify the best α."
   ]
  },
  {
   "cell_type": "code",
   "execution_count": 215,
   "id": "e7543fa4-65ed-42bd-830a-e1deefa720a8",
   "metadata": {},
   "outputs": [
    {
     "name": "stdout",
     "output_type": "stream",
     "text": [
      "R² score: 0.6479\n"
     ]
    }
   ],
   "source": [
    "from sklearn.linear_model import Ridge\n",
    "# Create the Ridge Regression model with regularization parameter alpha set to 0.1\n",
    "ridge_model = Ridge(alpha=0.1)\n",
    "\n",
    "# Fit the model using the training data\n",
    "ridge_model.fit(x_train, y_train)\n",
    "\n",
    "# Predict the target variable using the test data\n",
    "y_pred = ridge_model.predict(x_test)\n",
    "\n",
    "# Calculate the R² score\n",
    "r2 = r2_score(y_test, y_pred)\n",
    "print(f'R² score: {r2:.4f}')"
   ]
  },
  {
   "cell_type": "markdown",
   "id": "5243cecf-782f-4810-b6fe-868544415540",
   "metadata": {},
   "source": [
    "### Question 10\n",
    "#### Perform a second order polynomial transform on both the training data and testing data. Create and fit a Ridge regression object using the training data, set the regularisation parameter to 0.1, and calculate the R^2 utilising the test data provided.\n",
    "#### This code snippet adds a polynomial feature transformation to your Ridge regression model."
   ]
  },
  {
   "cell_type": "code",
   "execution_count": 225,
   "id": "0353f964-10a5-4c44-aac8-2012d660826c",
   "metadata": {},
   "outputs": [
    {
     "name": "stdout",
     "output_type": "stream",
     "text": [
      "R² score with polynomial features and Ridge regression: 0.7003\n"
     ]
    }
   ],
   "source": [
    "# Create a polynomial features transformer with degree 2\n",
    "poly = PolynomialFeatures(degree=2, include_bias=False)\n",
    "\n",
    "# Create a Ridge regression model with alpha=0.1\n",
    "ridge_model = Ridge(alpha=0.1)\n",
    "\n",
    "# Create a pipeline that first transforms the data with polynomial features and then applies Ridge regression\n",
    "pipeline = Pipeline([\n",
    "    ('poly', poly),\n",
    "    ('ridge', ridge_model)\n",
    "])\n",
    "\n",
    "# Fit the pipeline to the training data\n",
    "pipeline.fit(x_train, y_train)\n",
    "\n",
    "# Predict on the test data\n",
    "y_pred = pipeline.predict(x_test)\n",
    "\n",
    "# Calculate the R² score\n",
    "r2 = r2_score(y_test, y_pred)\n",
    "print(f'R² score with polynomial features and Ridge regression: {r2:.4f}')\n"
   ]
  },
  {
   "cell_type": "markdown",
   "id": "ca2751b8-864f-4c9c-a12b-a45cb6014031",
   "metadata": {},
   "source": [
    "## Summary\n",
    "### Question10 code snippet improves the Ridge regression model by:\n",
    "\n",
    "#### Adding Polynomial Features: The polynomial feature transformer helps capture non-linear relationships between features and the target variable, which a simple linear model might miss.\n",
    "\n",
    "#### Combining with Ridge Regression: The Ridge regression model applies regularization to prevent overfitting and manage the complexity of the model.\n",
    "\n",
    "#### Using a Pipeline: The pipeline simplifies the process by ensuring that the polynomial transformation and Ridge regression are applied sequentially and correctly.\n",
    "\n",
    "#### Overall, this approach helps to create a more flexible model that can better capture complex patterns in the data while controlling for overfitting through regularization."
   ]
  },
  {
   "cell_type": "markdown",
   "id": "ff9a58f9-352d-4a09-b49a-1d5b201c0e72",
   "metadata": {},
   "source": [
    "## EXTRA STEP; Adjusting the Regularization Parameter (α)\n",
    "#### Adjusting the regularization parameter α in Ridge regression is a critical step in fine-tuning the model. By testing different α values, you can identify the optimal level of regularization that improves the model’s performance on test data, thereby avoiding both overfitting and underfitting."
   ]
  },
  {
   "cell_type": "code",
   "execution_count": 231,
   "id": "0158f369-f9e9-4bd3-906f-ee0aac88e7b4",
   "metadata": {},
   "outputs": [
    {
     "name": "stdout",
     "output_type": "stream",
     "text": [
      "α=0.01, R² score: 0.6479\n",
      "α=0.1, R² score: 0.6479\n",
      "α=1, R² score: 0.6478\n",
      "α=10, R² score: 0.6471\n"
     ]
    }
   ],
   "source": [
    "from sklearn.linear_model import Ridge\n",
    "from sklearn.metrics import r2_score\n",
    "\n",
    "# Define a list of α values to test\n",
    "alpha_values = [0.01, 0.1, 1, 10]\n",
    "\n",
    "# Iterate through each α value\n",
    "for alpha in alpha_values:\n",
    "    # Create a Ridge regression model with the current α value\n",
    "    ridge_model = Ridge(alpha=alpha)\n",
    "    \n",
    "    # Fit the model to the training data\n",
    "    ridge_model.fit(x_train, y_train)\n",
    "    \n",
    "    # Make predictions on the test data\n",
    "    y_pred = ridge_model.predict(x_test)\n",
    "    \n",
    "    # Calculate the R² score of the model\n",
    "    r2 = r2_score(y_test, y_pred)\n",
    "    \n",
    "    # Print the α value and corresponding R² score\n",
    "    print(f'α={alpha}, R² score: {r2:.4f}')\n"
   ]
  },
  {
   "cell_type": "markdown",
   "id": "6628380b-3950-4c8b-ac7d-1e2985767627",
   "metadata": {},
   "source": [
    "### Steps and Reasons for Using Pipeline and Ridge Regression with Polynomial Feature Transformation\n",
    "\n",
    "1. **Create a Pipeline:**\n",
    "   - **Step:** Create a `Pipeline` that combines data preprocessing and modeling steps.\n",
    "   - **Reason:** A pipeline allows you to systematically apply data transformation and modeling. This ensures that all steps are performed correctly and completely, making your code cleaner and more manageable.\n",
    "\n",
    "2. **Add Polynomial Feature Transformation:**\n",
    "   - **Step:** Add polynomial feature transformation (e.g., second-degree polynomial) to the pipeline.\n",
    "   - **Reason:** Polynomial transformation helps capture nonlinear relationships in your dataset. This enables the model to learn complex relationships in the data, potentially leading to better performance.\n",
    "\n",
    "3. **Add Ridge Regression:**\n",
    "   - **Step:** Add Ridge regression to the pipeline and set the regularization parameter (α).\n",
    "   - **Reason:** Ridge regression helps control model complexity and prevent overfitting. Regularization can enhance the model’s general performance and reduce noise in the dataset.\n",
    "\n",
    "4. **Fit the Pipeline with Training Data:**\n",
    "   - **Step:** Fit the pipeline with training data to perform both transformation and modeling.\n",
    "   - **Reason:** Fitting with training data allows the model to apply both data transformation and regression analysis, ensuring the model is appropriately tuned to the data.\n",
    "\n",
    "5. **Make Predictions and Calculate R² Score on Test Data:**\n",
    "   - **Step:** Make predictions on test data and calculate the R² score.\n",
    "   - **Reason:** Performance on test data helps evaluate how well your model generalizes. The R² score shows how well the model explains the variance in the test data, providing a measure of the model’s success.\n",
    "\n",
    "### Why Use This Approach?\n",
    "\n",
    "- **Managing Complexity:** A pipeline enables you to execute data transformation and modeling in an orderly manner. This ensures that all processes are applied correctly and completely.\n",
    "  \n",
    "- **Regularization and Polynomial Features:** Polynomial transformation helps capture nonlinear relationships, while Ridge regression controls this complexity and prevents overfitting. This combination can enhance the model’s overall performance.\n",
    "\n",
    "- **Ease of Management:** By using a pipeline, you consolidate all steps into a single model object. This makes your code cleaner and more manageable, simplifying both implementation and maintenance processes.\n",
    "\n",
    "---\n",
    "\n",
    "These steps can help improve your model's ability to fit the data and enhance its overall performance.\n"
   ]
  },
  {
   "cell_type": "code",
   "execution_count": null,
   "id": "78c3e1b2-7a7b-4b47-9b18-86771536e33d",
   "metadata": {},
   "outputs": [],
   "source": []
  }
 ],
 "metadata": {
  "kernelspec": {
   "display_name": "Python 3 (ipykernel)",
   "language": "python",
   "name": "python3"
  },
  "language_info": {
   "codemirror_mode": {
    "name": "ipython",
    "version": 3
   },
   "file_extension": ".py",
   "mimetype": "text/x-python",
   "name": "python",
   "nbconvert_exporter": "python",
   "pygments_lexer": "ipython3",
   "version": "3.12.3"
  }
 },
 "nbformat": 4,
 "nbformat_minor": 5
}
